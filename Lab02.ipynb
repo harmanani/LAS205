{
 "cells": [
  {
   "cell_type": "markdown",
   "metadata": {},
   "source": [
    "\n",
    "# LAS 205: Digital Cultures\n",
    "### Module II: Fundamentals of Artificial Intelligence\n",
    "<img src=\"http://harmanani.github.io/images/LAU-Logo-Green.jpg\" width=200px align='right'>\n",
    "\n",
    "*Hands-on Lab 2: The Perceptron*\n",
    "\n",
    "<a href=\"https://colab.research.google.com/github/harmanani/LAS205/blob/main/Lab02.ipynb\" target=\"_parent\"><img src=\"https://colab.research.google.com/assets/colab-badge.svg\" alt=\"Open In Colab\"/></a>"
   ]
  },
  {
   "cell_type": "markdown",
   "metadata": {
    "id": "ZIAkIlfmCe1B"
   },
   "source": [
    "# Hello Neural Networks!"
   ]
  },
  {
   "cell_type": "markdown",
   "metadata": {
    "id": "fA93WUy1zzWf"
   },
   "source": [
    "**Lesson 3** showed how we can use a simple linear model to perform linear regression.  Let us see how we can do this using neural networks using a single neuron.  We will be using `TensorFlow` and `Keras`; however, do not worry about the details of the language for the moment as we will get back to these later on.\n",
    "\n",
    "The simple mode we will be looking at will learn the relationship between two numbers and will be used to predict other numbers. For example, if you were writing code for a function like this: \n",
    "\n",
    "\n",
    "```\n",
    "y = mx + b\n",
    "```\n",
    "\n",
    "How would you train a neural network to do the equivalent task? Well, we said using data, a lot of data! The approach is to feed the model with a set of Xs, and a set of Ys, it should be able to figure out the relationship between them. "
   ]
  },
  {
   "cell_type": "markdown",
   "metadata": {
    "id": "DzbtdRcZDO9B"
   },
   "source": [
    "## Imports\n",
    "\n",
    "Let's start with our imports. Here we are importing 'TensorFlow' and calling it tf for ease of use.  We do of course need to import `numpy`, which helps us to represent our data as lists easily and quickly.  Finally, the framework for defining a neural network as a set of Sequential layers is called keras, so we import that too."
   ]
  },
  {
   "cell_type": "code",
   "execution_count": 99,
   "metadata": {
    "id": "BlQCLrxA_27d"
   },
   "outputs": [],
   "source": [
    "#!pip install tensorflow==2.5.0"
   ]
  },
  {
   "cell_type": "code",
   "execution_count": 100,
   "metadata": {
    "id": "X9uIpOS2zx7k"
   },
   "outputs": [
    {
     "name": "stdout",
     "output_type": "stream",
     "text": [
      "2.5.0-rc0\n"
     ]
    }
   ],
   "source": [
    "import tensorflow as tf\n",
    "import numpy as np\n",
    "from tensorflow import keras\n",
    "\n",
    "print(tf.__version__)"
   ]
  },
  {
   "cell_type": "markdown",
   "metadata": {
    "id": "wwJGmDrQ0EoB"
   },
   "source": [
    "## Define and Compile the Neural Network\n",
    "\n",
    "Next we will create the simplest possible neural network. It has 1 layer, and that layer has 1 neuron, and the input shape to it is just 1 value."
   ]
  },
  {
   "cell_type": "code",
   "execution_count": 101,
   "metadata": {
    "id": "kQFAr_xo0M4T"
   },
   "outputs": [],
   "source": [
    "model = tf.keras.Sequential([keras.layers.Dense(units=1, input_shape=[1])])"
   ]
  },
  {
   "cell_type": "markdown",
   "metadata": {
    "id": "KhjZjZ-c0Ok9"
   },
   "source": [
    "Now we compile our Neural Network. When we do so, we have to specify 2 functions, a loss and an optimizer.\n",
    "\n",
    "If you've seen lots of math for machine learning, here's where it's usually used, but in this case it's nicely encapsulated in functions for you. But what happens here — let's explain...\n",
    "\n",
    "We know that in our function, the relationship between the numbers is y=2x+1. \n",
    "\n",
    "When the computer is trying to 'learn' that, it makes a guess...maybe y=10x+10. The LOSS function measures the guessed answers against the known correct answers and measures how well or how badly it did.\n",
    "\n",
    "It then uses the OPTIMIZER function to make another guess. Based on how the loss function went, it will try to minimize the loss. At that point maybe it will come up with somehting like y=5x+5, which, while still pretty bad, is closer to the correct result (i.e. the loss is lower)\n",
    "\n",
    "It will repeat this for the number of EPOCHS which you will see shortly. But first, here's how we tell it to use 'MEAN SQUARED ERROR' for the loss and 'STOCHASTIC GRADIENT DESCENT' for the optimizer. You don't need to understand the math for these yet, but you can see that they work! :)\n",
    "\n",
    "Over time you will learn the different and appropriate loss and optimizer functions for different scenarios. \n"
   ]
  },
  {
   "cell_type": "code",
   "execution_count": 102,
   "metadata": {
    "id": "m8YQN1H41L-Y"
   },
   "outputs": [],
   "source": [
    "model.compile(optimizer='sgd', loss='mean_squared_error')"
   ]
  },
  {
   "cell_type": "markdown",
   "metadata": {
    "id": "5QyOUhFw1OUX"
   },
   "source": [
    "## Providing the Data\n",
    "\n",
    "Next up we'll feed in some data. In this case we are taking 6 xs and 6ys. You can see that the relationship between these is that y=2x-1, so where x = -1, y=-3 etc. etc. \n",
    "\n",
    "A python library called 'Numpy' provides lots of array type data structures that are a defacto standard way of doing it. We declare that we want to use these by specifying the values as an np.array[]"
   ]
  },
  {
   "cell_type": "code",
   "execution_count": 103,
   "metadata": {
    "id": "4Dxk4q-jzEy4"
   },
   "outputs": [],
   "source": [
    "#xs = np.array([1.0,  2.0], dtype=float)\n",
    "#ys = np.array([3.0, 5], dtype=float)"
   ]
  },
  {
   "cell_type": "markdown",
   "metadata": {},
   "source": [
    "### We will try this one next, on a relatively larger set."
   ]
  },
  {
   "cell_type": "markdown",
   "metadata": {},
   "source": [
    "Comment the above data set and try this one now:"
   ]
  },
  {
   "cell_type": "code",
   "execution_count": 109,
   "metadata": {},
   "outputs": [],
   "source": [
    "xs = np.array([-1.0,  0.0, 1.0, 2.0, 3.0, 4.0], dtype=float)\n",
    "ys = np.array([-3.0, -1.0, 1.0, 3.0, 5.0, 7.0], dtype=float)"
   ]
  },
  {
   "cell_type": "markdown",
   "metadata": {
    "id": "n_YcWRElnM_b"
   },
   "source": [
    "# Training the Neural Network"
   ]
  },
  {
   "cell_type": "markdown",
   "metadata": {
    "id": "c-Jk4dG91dvD"
   },
   "source": [
    "The process of training the neural network, where it 'learns' the relationship between the Xs and Ys is in the **model.fit**  call. This is where it will go through the loop we spoke about above, making a guess, measuring how good or bad it is (aka the loss), using the opimizer to make another guess etc. It will do it for the number of epochs you specify. When you run this code, you'll see the loss on the right hand side."
   ]
  },
  {
   "cell_type": "code",
   "execution_count": 110,
   "metadata": {
    "id": "lpRrl7WK10Pq"
   },
   "outputs": [],
   "source": [
    "from keras.callbacks import History \n",
    "history = History()\n",
    "\n",
    "x = model.fit(xs, ys, epochs=500, callbacks=[history], verbose=0)"
   ]
  },
  {
   "cell_type": "markdown",
   "metadata": {
    "id": "kaFIr71H2OZ-"
   },
   "source": [
    "Ok, that we have a model that we have trained to learn the relationship between X and Y, we can use the **model.predict** method to have it figure out the Y for a previously unknown X. So, for example, if X = 2, what do you think Y will be? Take a guess before you run this code:"
   ]
  },
  {
   "cell_type": "code",
   "execution_count": 111,
   "metadata": {},
   "outputs": [
    {
     "name": "stdout",
     "output_type": "stream",
     "text": [
      "{'loss': [8.63642981130397e-06, 8.458943739242386e-06, 8.285229341709055e-06, 8.1147854871233e-06, 7.948056918394286e-06, 7.785140041960403e-06, 7.625005309819244e-06, 7.468689091183478e-06, 7.315366474358598e-06, 7.165141596487956e-06, 7.0176160988921765e-06, 6.873802703921683e-06, 6.732673227816122e-06, 6.594237220269861e-06, 6.458779807871906e-06, 6.3260777096729726e-06, 6.196472895680927e-06, 6.069030405342346e-06, 5.944371878285892e-06, 5.822654657094972e-06, 5.703181614080677e-06, 5.585631242865929e-06, 5.471199983730912e-06, 5.3584931265504565e-06, 5.248432444204809e-06, 5.140398570802063e-06, 5.034817149862647e-06, 4.9316345211991575e-06, 4.830417310586199e-06, 4.7311318667198066e-06, 4.6338227548403665e-06, 4.53887514595408e-06, 4.445482318260474e-06, 4.354000338935293e-06, 4.264715698809596e-06, 4.176861693849787e-06, 4.09116319133318e-06, 4.007272309536347e-06, 3.924914835806703e-06, 3.844357706839219e-06, 3.7649799651262583e-06, 3.687756361614447e-06, 3.6121844004810555e-06, 3.5380162444198504e-06, 3.464970859567984e-06, 3.393846782273613e-06, 3.324320687170257e-06, 3.2561347325099632e-06, 3.188970367773436e-06, 3.123505621260847e-06, 3.0594155759899877e-06, 2.9965576686663553e-06, 2.93511402560398e-06, 2.8750266665156232e-06, 2.8158799523225753e-06, 2.7581656922848197e-06, 2.701233142943238e-06, 2.6457228159415536e-06, 2.591423026387929e-06, 2.538300350352074e-06, 2.4861462861736072e-06, 2.43491285800701e-06, 2.385041398156318e-06, 2.3360569230135297e-06, 2.2880651613377267e-06, 2.2409474240703275e-06, 2.194841727032326e-06, 2.1498726709978655e-06, 2.105775365635054e-06, 2.0624827357096365e-06, 2.0201573533995543e-06, 1.978552745640627e-06, 1.9378969682293246e-06, 1.8982391338795424e-06, 1.859084932220867e-06, 1.820931061047304e-06, 1.7836204051491222e-06, 1.7468734085923643e-06, 1.7110320413848967e-06, 1.6759609025029931e-06, 1.6416023527199286e-06, 1.6078521412055125e-06, 1.5746885537737398e-06, 1.5423665900016204e-06, 1.5107817716852878e-06, 1.4795886045249063e-06, 1.4492698028334416e-06, 1.4195875337463804e-06, 1.390319425809139e-06, 1.3618417824545759e-06, 1.3337631799004157e-06, 1.30628711758618e-06, 1.2796125474778819e-06, 1.253243340215704e-06, 1.227458483299415e-06, 1.2022513828924275e-06, 1.177580429612135e-06, 1.1534776831467752e-06, 1.129668703470088e-06, 1.1065703802159987e-06, 1.0838566595339216e-06, 1.0615882501952e-06, 1.0397596952316235e-06, 1.0185108294535894e-06, 9.975101420423016e-07, 9.769488542588078e-07, 9.56859253165021e-07, 9.372554359288188e-07, 9.179616426990833e-07, 8.992114999273326e-07, 8.806803748484526e-07, 8.626457201899029e-07, 8.448694757134945e-07, 8.275886216324579e-07, 8.105735105345957e-07, 7.937912300803873e-07, 7.775848303026578e-07, 7.616715720359934e-07, 7.460564006578352e-07, 7.306013571906078e-07, 7.156083370318811e-07, 7.009312525951827e-07, 6.866244461889437e-07, 6.725138632646122e-07, 6.58700002986734e-07, 6.451508056670718e-07, 6.319030489976285e-07, 6.189196142258879e-07, 6.062990109967359e-07, 5.936946081419592e-07, 5.815579129375692e-07, 5.696093126061896e-07, 5.578468744715792e-07, 5.46464548278891e-07, 5.352770244826388e-07, 5.241990947979502e-07, 5.133867375661794e-07, 5.029048679716652e-07, 4.926556584905484e-07, 4.824259463021008e-07, 4.7263611691050755e-07, 4.6292643673950806e-07, 4.5340217980083253e-07, 4.4411262933863327e-07, 4.349164726136223e-07, 4.260004971001763e-07, 4.1731223632268666e-07, 4.087265779162408e-07, 4.0025108205554716e-07, 3.9216635627781216e-07, 3.8402254176617134e-07, 3.761369953281246e-07, 3.683719569380628e-07, 3.6081328858017514e-07, 3.534001677962806e-07, 3.4619981192918203e-07, 3.39076024147289e-07, 3.3212461403309135e-07, 3.252791884733597e-07, 3.1860795957072696e-07, 3.1205613026941137e-07, 3.057033666209463e-07, 2.993969019371434e-07, 2.9332625217648456e-07, 2.8729547807415656e-07, 2.8134846274951997e-07, 2.7559073600968986e-07, 2.699365211356053e-07, 2.643606364927109e-07, 2.588986660612136e-07, 2.535710734719032e-07, 2.4838138301674917e-07, 2.4325620984200214e-07, 2.3828353334920394e-07, 2.3338886023793748e-07, 2.286412126295545e-07, 2.2390975118469214e-07, 2.1929660931618855e-07, 2.148368167809167e-07, 2.1035943120750744e-07, 2.0610377760021947e-07, 2.0182177706828952e-07, 1.9770970993704395e-07, 1.936642064492844e-07, 1.8965124581882264e-07, 1.8576706395379006e-07, 1.819262962499124e-07, 1.7819554898323986e-07, 1.7454497935887048e-07, 1.7092052928546764e-07, 1.6743383923767396e-07, 1.6400611002609367e-07, 1.6062442398379062e-07, 1.573529715415134e-07, 1.5405426267989242e-07, 1.5095106675744319e-07, 1.478706366242477e-07, 1.448436535156361e-07, 1.418744375314418e-07, 1.3899462203426083e-07, 1.3609869142783282e-07, 1.3331461445886816e-07, 1.305381118754667e-07, 1.2789985248673474e-07, 1.2526774639809446e-07, 1.226853072466838e-07, 1.2019951611819124e-07, 1.176913997369411e-07, 1.1527573207104069e-07, 1.1290878632053136e-07, 1.1059717053285567e-07, 1.0828964747133796e-07, 1.0612392742359589e-07, 1.0390950677674482e-07, 1.0175983788940357e-07, 9.967737213401051e-08, 9.763581232391516e-08, 9.561539826563603e-08, 9.368338282911282e-08, 9.175337112310444e-08, 8.985765020952385e-08, 8.800066098046955e-08, 8.62165947523863e-08, 8.4463941618651e-08, 8.268620632634338e-08, 8.097214276858722e-08, 7.935332035913234e-08, 7.769388332690141e-08, 7.610056229623297e-08, 7.452578643096786e-08, 7.302163140820994e-08, 7.150305947334346e-08, 7.006136115705885e-08, 6.861206713892898e-08, 6.72067486107153e-08, 6.581061029464763e-08, 6.449193534763253e-08, 6.316853529142463e-08, 6.18698265952844e-08, 6.0581903937873e-08, 5.933916824574226e-08, 5.812649916947521e-08, 5.695893534607421e-08, 5.5785989161449834e-08, 5.463973806740796e-08, 5.3498325769396615e-08, 5.240023526198456e-08, 5.1291198843728125e-08, 5.027491667419781e-08, 4.9255501011202796e-08, 4.8226677762386316e-08, 4.726055280457331e-08, 4.6264819530961176e-08, 4.5344908272682005e-08, 4.437658063238814e-08, 4.3468414645531084e-08, 4.2569642033640775e-08, 4.1728984712108286e-08, 4.0841502624289205e-08, 4.001357112315418e-08, 3.92015522265865e-08, 3.8401722690650786e-08, 3.7633455463037535e-08, 3.6861813157429424e-08, 3.608771237395558e-08, 3.5359573047344384e-08, 3.4638929946595454e-08, 3.393049397004688e-08, 3.322943697980918e-08, 3.254243452488481e-08, 3.1873696570983157e-08, 3.119903269066526e-08, 3.053813557585272e-08, 2.9917000432533314e-08, 2.9302265502906266e-08, 2.8733177614981287e-08, 2.8140107133367565e-08, 2.7552772507988266e-08, 2.701234791402385e-08, 2.6426954846670014e-08, 2.590095071752785e-08, 2.5381245549738196e-08, 2.4862250924684304e-08, 2.4356216599130676e-08, 2.384688535528312e-08, 2.3357378253763272e-08, 2.286266997941766e-08, 2.240506624673344e-08, 2.1937081484679766e-08, 2.150491162922208e-08, 2.1042099618284738e-08, 2.063413262476388e-08, 2.0200021211280728e-08, 1.9774882176193387e-08, 1.9388082250770822e-08, 1.897610069079292e-08, 1.8600827544901222e-08, 1.8234297627373053e-08, 1.78423089636226e-08, 1.7481951886111347e-08, 1.7130117768715536e-08, 1.67737965739434e-08, 1.6424444027052232e-08, 1.6109003908582054e-08, 1.576301400518787e-08, 1.543229721789885e-08, 1.5126673247323197e-08, 1.4805948467255803e-08, 1.4500931122540806e-08, 1.4205615350704193e-08, 1.39163418566568e-08, 1.3634476658808126e-08, 1.3365093032291497e-08, 1.3085480254915183e-08, 1.281302974831533e-08, 1.2565268825426301e-08, 1.2309643970809248e-08, 1.204831345802404e-08, 1.180476072448755e-08, 1.1567678370738577e-08, 1.1320378412449372e-08, 1.1084440920683392e-08, 1.0863963950669131e-08, 1.0632876801253133e-08, 1.0416947304747737e-08, 1.0211678613814001e-08, 9.9965333788532e-09, 9.787366472835402e-09, 9.593892791315284e-09, 9.395034972214944e-09, 9.189602856451984e-09, 9.019520241793089e-09, 8.821447572415764e-09, 8.643735505131644e-09, 8.460096623252866e-09, 8.303338461246312e-09, 8.134952267369044e-09, 7.95683963161764e-09, 7.80724018767387e-09, 7.641415500359017e-09, 7.482303665540257e-09, 7.331903528751127e-09, 7.1879688867682034e-09, 7.0345724800802145e-09, 6.899161686391153e-09, 6.759421911084473e-09, 6.6107048724006745e-09, 6.476195135718399e-09, 6.343318759149952e-09, 6.2147198498507805e-09, 6.084581727350269e-09, 5.963552762722202e-09, 5.8360765109455315e-09, 5.717436746266458e-09, 5.610881981255034e-09, 5.489229071287127e-09, 5.371623146288584e-09, 5.27250421100689e-09, 5.159398241971758e-09, 5.04770092391027e-09, 4.951635546035504e-09, 4.8418518083792605e-09, 4.748306636770394e-09, 4.65140770344874e-09, 4.545034570924145e-09, 4.454868474113027e-09, 4.370781070406338e-09, 4.280055865280019e-09, 4.192297620164709e-09, 4.114717455649952e-09, 4.018565036290056e-09, 3.948491311689395e-09, 3.8604315300005965e-09, 3.79209152967519e-09, 3.708967355464665e-09, 3.641754675598463e-09, 3.5571243728327318e-09, 3.491569700031505e-09, 3.4155551720260746e-09, 3.3470783922240344e-09, 3.2850191455935374e-09, 3.2235576430394985e-09, 3.1570313030471198e-09, 3.0848550380824236e-09, 3.025320438609924e-09, 2.9644031673825566e-09, 2.9037512394580745e-09, 2.8473816637841765e-09, 2.7915803002542816e-09, 2.73308842224651e-09, 2.674861887541624e-09, 2.6207658265775535e-09, 2.567238199802091e-09, 2.512489105654936e-09, 2.4686575006427347e-09, 2.4195359049627996e-09, 2.36642949680288e-09, 2.3140156457657213e-09, 2.2663708687531425e-09, 2.2248045628003865e-09, 2.1740333977504633e-09, 2.126456122297782e-09, 2.0862529481746606e-09, 2.039674429354932e-09, 1.996345533328281e-09, 1.9589567745725844e-09, 1.9216344071537605e-09, 1.8760342168633315e-09, 1.842060726175987e-09, 1.8046009131467144e-09, 1.7623401626920554e-09, 1.7327886903117928e-09, 1.6918993983594532e-09, 1.655953596468862e-09, 1.6243575373664498e-09, 1.590886866686958e-09, 1.5591817836835276e-09, 1.5315375634372685e-09, 1.4967559414102993e-09, 1.4709140572222168e-09, 1.4329893938125338e-09, 1.4081447119451695e-09, 1.3770318219030742e-09, 1.3483566485561482e-09, 1.3257519526632677e-09, 1.2976025809408043e-09, 1.2699507001556753e-09, 1.2475235289244324e-09, 1.22530963153622e-09, 1.198467658447555e-09, 1.1718199743881996e-09, 1.1506173791531182e-09, 1.1244954967182252e-09, 1.0987951659657824e-09, 1.0788413495887994e-09, 1.0613921963553707e-09, 1.042930519723484e-09, 1.021317586058501e-09, 9.977115800197112e-10, 9.798218902901112e-10, 9.631554442890433e-10, 9.402209011355467e-10, 9.21811349474666e-10, 9.056980165844664e-10, 8.886858471335302e-10, 8.708151422176513e-10, 8.488167391185186e-10, 8.33306146308388e-10, 8.177216126448172e-10, 8.032881027020267e-10, 7.861024609034928e-10, 7.719436756481457e-10, 7.56908591359462e-10, 7.430245863027096e-10, 7.265021362279356e-10, 7.128549417423358e-10, 6.984451350611209e-10, 6.851106348904068e-10, 6.692513210282414e-10, 6.561915455449707e-10, 6.423312437497941e-10, 6.29546192953967e-10, 6.143500708155614e-10, 6.01801886102038e-10, 5.900654964641205e-10, 5.759996923870858e-10, 5.686733861587356e-10, 5.580940154459313e-10, 5.444012463051706e-10, 5.332297381421824e-10, 5.231039490460887e-10, 5.145377457438371e-10, 5.036824290982622e-10, 4.908387585267349e-10, 4.840714495912835e-10, 4.743163084519608e-10, 4.6176987233970124e-10, 4.514794371690556e-10, 4.4081360783820855e-10, 4.343979898013828e-10, 4.2442374614815037e-10, 4.12802236837706e-10, 4.0659386968400213e-10, 3.976629303625856e-10, 3.8626288278997833e-10, 3.768535206116752e-10, 3.6852773610540623e-10, 3.6028366401374967e-10, 3.554756489165811e-10, 3.4612016031054793e-10, 3.403647641508911e-10, 3.350451860395509e-10, 3.294034767176157e-10, 3.203700915666019e-10, 3.1601685157589543e-10, 3.0973090758834587e-10, 3.015880878365351e-10, 2.9660954248278415e-10, 2.9127100731329847e-10, 2.8280608410646835e-10]}\n"
     ]
    }
   ],
   "source": [
    "print(x.history)"
   ]
  },
  {
   "cell_type": "code",
   "execution_count": 112,
   "metadata": {},
   "outputs": [
    {
     "data": {
      "text/plain": [
       "<AxesSubplot:>"
      ]
     },
     "execution_count": 112,
     "metadata": {},
     "output_type": "execute_result"
    },
    {
     "data": {
      "image/png": "[encoded data removed]",
      "text/plain": [
       "<Figure size 432x288 with 1 Axes>"
      ]
     },
     "metadata": {
      "needs_background": "light"
     },
     "output_type": "display_data"
    }
   ],
   "source": [
    "import seaborn as sns\n",
    "sns.lineplot(data=x.history['loss'])"
   ]
  },
  {
   "cell_type": "code",
   "execution_count": 113,
   "metadata": {},
   "outputs": [
    {
     "data": {
      "text/plain": [
       "array([[3.000008]], dtype=float32)"
      ]
     },
     "execution_count": 113,
     "metadata": {},
     "output_type": "execute_result"
    }
   ],
   "source": [
    "model.predict([2.0])"
   ]
  },
  {
   "cell_type": "markdown",
   "metadata": {
    "id": "btF2CSFH2iEX"
   },
   "source": [
    "You might have thought 5, right? But it ended up being a little under. Why do you think that is? \n",
    "\n",
    "Remember that neural networks deal with probabilities, so given the data that we fed the NN with, it calculated that there is a very high probability that the relationship between X and Y is Y=2X+1, but with only 2 data points we can't know for sure. As a result, the result for 2 is very close to 5, but not necessarily 5. \n",
    "\n",
    "As you work with neural networks, you'll see this pattern recurring. You will almost always deal with probabilities, not certainties, and will do a little bit of coding to figure out what the result is based on the probabilities, particularly when it comes to classification.\n"
   ]
  },
  {
   "cell_type": "markdown",
   "metadata": {},
   "source": [
    "# Let us use a bigger dataset and compare with Linear regression"
   ]
  },
  {
   "cell_type": "code",
   "execution_count": 120,
   "metadata": {},
   "outputs": [
    {
     "data": {
      "text/plain": [
       "<tensorflow.python.keras.callbacks.History at 0x7fa5b6b69490>"
      ]
     },
     "execution_count": 120,
     "metadata": {},
     "output_type": "execute_result"
    }
   ],
   "source": [
    "xs = np.array([ 0,  1,  2,  3,  4,  5,  6,  7,  8,  9])\n",
    "ys = np.array([10, 20, 25, 30, 40, 45, 40, 50, 60, 55])\n",
    "model = tf.keras.Sequential([keras.layers.Dense(units=1, input_shape=[1])])\n",
    "model.compile(optimizer='sgd', loss='mean_squared_error')\n",
    "\n",
    "model.fit(xs, ys, epochs=1000, verbose=0)"
   ]
  },
  {
   "cell_type": "code",
   "execution_count": 121,
   "metadata": {},
   "outputs": [
    {
     "name": "stdout",
     "output_type": "stream",
     "text": [
      "[[65.693695]]\n"
     ]
    }
   ],
   "source": [
    "print(model.predict([10]))"
   ]
  },
  {
   "cell_type": "markdown",
   "metadata": {},
   "source": [
    "# Linear Regression "
   ]
  },
  {
   "cell_type": "code",
   "execution_count": 116,
   "metadata": {},
   "outputs": [
    {
     "data": {
      "image/png": "[encoded data removed]",
      "text/plain": [
       "<Figure size 432x288 with 1 Axes>"
      ]
     },
     "metadata": {
      "needs_background": "light"
     },
     "output_type": "display_data"
    }
   ],
   "source": [
    "from numpy.polynomial.polynomial import polyfit\n",
    "\n",
    "x = np.array([ 0,  1,  2,  3,  4,  5,  6,  7,  8,  9])\n",
    "y = np.array([10, 20, 25, 30, 40, 45, 40, 50, 60, 55])\n",
    "b, m = polyfit(x,y,1)\n",
    "\n",
    "y_hat = m*x+b\n",
    "\n",
    "plt.plot(x, y, '.')\n",
    "plt.plot(x, y_hat, '-')\n",
    "plt.show()"
   ]
  },
  {
   "cell_type": "code",
   "execution_count": 117,
   "metadata": {},
   "outputs": [
    {
     "name": "stdout",
     "output_type": "stream",
     "text": [
      "65.66666666666664\n"
     ]
    }
   ],
   "source": [
    "x = 10\n",
    "print(m*x+b)"
   ]
  },
  {
   "cell_type": "markdown",
   "metadata": {},
   "source": [
    "Note the difference in value!"
   ]
  }
 ],
 "metadata": {
  "colab": {
   "collapsed_sections": [],
   "name": "C1_W1_Lab_1_hello_world_nn.ipynb",
   "provenance": [],
   "toc_visible": true
  },
  "kernelspec": {
   "display_name": "Python 3",
   "language": "python",
   "name": "python3"
  },
  "language_info": {
   "codemirror_mode": {
    "name": "ipython",
    "version": 3
   },
   "file_extension": ".py",
   "mimetype": "text/x-python",
   "name": "python",
   "nbconvert_exporter": "python",
   "pygments_lexer": "ipython3",
   "version": "3.9.6"
  }
 },
 "nbformat": 4,
 "nbformat_minor": 4
}
