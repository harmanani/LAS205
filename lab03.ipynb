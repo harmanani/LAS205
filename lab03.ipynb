{
 "cells": [
  {
   "cell_type": "markdown",
   "metadata": {},
   "source": [
    "\n",
    "# LAS 205: Digital Cultures\n",
    "### Module II: Fundamentals of Artificial Intelligence\n",
    "\n",
    "\n",
    "*Lab 3: Experiment with Pandas*\n",
    "\n",
    "<a href=\"https://colab.research.google.com/github/harmanani/LAS205/blob/main/lab03.ipynb\" target=\"_parent\"><img src=\"https://colab.research.google.com/assets/colab-badge.svg\" alt=\"Open In Colab\"/></a>\n"
   ]
  },
  {
   "cell_type": "markdown",
   "metadata": {},
   "source": [
    "# Import Pandas"
   ]
  },
  {
   "cell_type": "code",
   "execution_count": 1,
   "metadata": {},
   "outputs": [],
   "source": [
    "import pandas as pd "
   ]
  },
  {
   "cell_type": "markdown",
   "metadata": {},
   "source": [
    "# Let us experiment with Pandas!"
   ]
  },
  {
   "cell_type": "markdown",
   "metadata": {},
   "source": [
    "We will start by reading from an excel file!"
   ]
  },
  {
   "cell_type": "code",
   "execution_count": 2,
   "metadata": {},
   "outputs": [],
   "source": [
    "country_wise_latest_covid = pd.read_excel('country_wise_latest.xlsx')"
   ]
  },
  {
   "cell_type": "markdown",
   "metadata": {},
   "source": [
    "Rename a Column from Country/Region to Country"
   ]
  },
  {
   "cell_type": "code",
   "execution_count": 3,
   "metadata": {},
   "outputs": [],
   "source": [
    "country_wise_latest_covid=country_wise_latest_covid.rename(columns={'Country/Region':'Country'})"
   ]
  },
  {
   "cell_type": "markdown",
   "metadata": {},
   "source": [
    "Check the names of the columns that we have"
   ]
  },
  {
   "cell_type": "code",
   "execution_count": 4,
   "metadata": {},
   "outputs": [
    {
     "data": {
      "text/plain": [
       "Index(['Country', 'Confirmed', 'Deaths', 'Recovered', 'Active', 'New_Cases',\n",
       "       'New_deaths', 'New_recovered', 'Deaths / 100 Cases',\n",
       "       'Recovered / 100 Cases', 'Deaths / 100 Recovered',\n",
       "       'Confirmed last week', '1 week change', '1 week % increase',\n",
       "       'WHO_Region'],\n",
       "      dtype='object')"
      ]
     },
     "execution_count": 4,
     "metadata": {},
     "output_type": "execute_result"
    }
   ],
   "source": [
    "country_wise_latest_covid.columns"
   ]
  },
  {
   "cell_type": "markdown",
   "metadata": {},
   "source": [
    "Let us get the row that includes COVID data about Lebanon!"
   ]
  },
  {
   "cell_type": "code",
   "execution_count": 5,
   "metadata": {},
   "outputs": [
    {
     "data": {
      "text/html": [
       "<div>\n",
       "<style scoped>\n",
       "    .dataframe tbody tr th:only-of-type {\n",
       "        vertical-align: middle;\n",
       "    }\n",
       "\n",
       "    .dataframe tbody tr th {\n",
       "        vertical-align: top;\n",
       "    }\n",
       "\n",
       "    .dataframe thead th {\n",
       "        text-align: right;\n",
       "    }\n",
       "</style>\n",
       "<table border=\"1\" class=\"dataframe\">\n",
       "  <thead>\n",
       "    <tr style=\"text-align: right;\">\n",
       "      <th></th>\n",
       "      <th>Country</th>\n",
       "      <th>Confirmed</th>\n",
       "      <th>Deaths</th>\n",
       "      <th>Recovered</th>\n",
       "      <th>Active</th>\n",
       "      <th>New_Cases</th>\n",
       "      <th>New_deaths</th>\n",
       "      <th>New_recovered</th>\n",
       "      <th>Deaths / 100 Cases</th>\n",
       "      <th>Recovered / 100 Cases</th>\n",
       "      <th>Deaths / 100 Recovered</th>\n",
       "      <th>Confirmed last week</th>\n",
       "      <th>1 week change</th>\n",
       "      <th>1 week % increase</th>\n",
       "      <th>WHO_Region</th>\n",
       "    </tr>\n",
       "  </thead>\n",
       "  <tbody>\n",
       "    <tr>\n",
       "      <th>96</th>\n",
       "      <td>Lebanon</td>\n",
       "      <td>3882</td>\n",
       "      <td>51</td>\n",
       "      <td>1709</td>\n",
       "      <td>2122</td>\n",
       "      <td>132</td>\n",
       "      <td>0</td>\n",
       "      <td>17</td>\n",
       "      <td>1.31</td>\n",
       "      <td>44.02</td>\n",
       "      <td>2.98</td>\n",
       "      <td>2905</td>\n",
       "      <td>977</td>\n",
       "      <td>33.63</td>\n",
       "      <td>Eastern Mediterranean</td>\n",
       "    </tr>\n",
       "  </tbody>\n",
       "</table>\n",
       "</div>"
      ],
      "text/plain": [
       "    Country  Confirmed  Deaths  Recovered  Active  New_Cases  New_deaths  \\\n",
       "96  Lebanon       3882      51       1709    2122        132           0   \n",
       "\n",
       "    New_recovered  Deaths / 100 Cases  Recovered / 100 Cases  \\\n",
       "96             17                1.31                  44.02   \n",
       "\n",
       "    Deaths / 100 Recovered  Confirmed last week  1 week change  \\\n",
       "96                    2.98                 2905            977   \n",
       "\n",
       "    1 week % increase             WHO_Region  \n",
       "96              33.63  Eastern Mediterranean  "
      ]
     },
     "execution_count": 5,
     "metadata": {},
     "output_type": "execute_result"
    }
   ],
   "source": [
    "country_wise_latest_covid.query(\"Country == 'Lebanon'\")"
   ]
  },
  {
   "cell_type": "markdown",
   "metadata": {},
   "source": [
    "What if we do not know the name of the Country but we know parts of the name?  For example, we may remember that the country name starts with `Leba`, in this case we can use the `contains` statement for matching:"
   ]
  },
  {
   "cell_type": "code",
   "execution_count": 6,
   "metadata": {},
   "outputs": [
    {
     "data": {
      "text/html": [
       "<div>\n",
       "<style scoped>\n",
       "    .dataframe tbody tr th:only-of-type {\n",
       "        vertical-align: middle;\n",
       "    }\n",
       "\n",
       "    .dataframe tbody tr th {\n",
       "        vertical-align: top;\n",
       "    }\n",
       "\n",
       "    .dataframe thead th {\n",
       "        text-align: right;\n",
       "    }\n",
       "</style>\n",
       "<table border=\"1\" class=\"dataframe\">\n",
       "  <thead>\n",
       "    <tr style=\"text-align: right;\">\n",
       "      <th></th>\n",
       "      <th>Country</th>\n",
       "      <th>Confirmed</th>\n",
       "      <th>Deaths</th>\n",
       "      <th>Recovered</th>\n",
       "      <th>Active</th>\n",
       "      <th>New_Cases</th>\n",
       "      <th>New_deaths</th>\n",
       "      <th>New_recovered</th>\n",
       "      <th>Deaths / 100 Cases</th>\n",
       "      <th>Recovered / 100 Cases</th>\n",
       "      <th>Deaths / 100 Recovered</th>\n",
       "      <th>Confirmed last week</th>\n",
       "      <th>1 week change</th>\n",
       "      <th>1 week % increase</th>\n",
       "      <th>WHO_Region</th>\n",
       "    </tr>\n",
       "  </thead>\n",
       "  <tbody>\n",
       "    <tr>\n",
       "      <th>96</th>\n",
       "      <td>Lebanon</td>\n",
       "      <td>3882</td>\n",
       "      <td>51</td>\n",
       "      <td>1709</td>\n",
       "      <td>2122</td>\n",
       "      <td>132</td>\n",
       "      <td>0</td>\n",
       "      <td>17</td>\n",
       "      <td>1.31</td>\n",
       "      <td>44.02</td>\n",
       "      <td>2.98</td>\n",
       "      <td>2905</td>\n",
       "      <td>977</td>\n",
       "      <td>33.63</td>\n",
       "      <td>Eastern Mediterranean</td>\n",
       "    </tr>\n",
       "  </tbody>\n",
       "</table>\n",
       "</div>"
      ],
      "text/plain": [
       "    Country  Confirmed  Deaths  Recovered  Active  New_Cases  New_deaths  \\\n",
       "96  Lebanon       3882      51       1709    2122        132           0   \n",
       "\n",
       "    New_recovered  Deaths / 100 Cases  Recovered / 100 Cases  \\\n",
       "96             17                1.31                  44.02   \n",
       "\n",
       "    Deaths / 100 Recovered  Confirmed last week  1 week change  \\\n",
       "96                    2.98                 2905            977   \n",
       "\n",
       "    1 week % increase             WHO_Region  \n",
       "96              33.63  Eastern Mediterranean  "
      ]
     },
     "execution_count": 6,
     "metadata": {},
     "output_type": "execute_result"
    }
   ],
   "source": [
    "country_wise_latest_covid.query('Country.str.contains(\"Leba\")')"
   ]
  },
  {
   "cell_type": "markdown",
   "metadata": {},
   "source": [
    "We can also do SQL-style queries, except these are much simpler and easier!  Of course, we can do more complex queries such as joins, but these will not be covered in this module."
   ]
  },
  {
   "cell_type": "code",
   "execution_count": 7,
   "metadata": {},
   "outputs": [
    {
     "data": {
      "text/html": [
       "<div>\n",
       "<style scoped>\n",
       "    .dataframe tbody tr th:only-of-type {\n",
       "        vertical-align: middle;\n",
       "    }\n",
       "\n",
       "    .dataframe tbody tr th {\n",
       "        vertical-align: top;\n",
       "    }\n",
       "\n",
       "    .dataframe thead th {\n",
       "        text-align: right;\n",
       "    }\n",
       "</style>\n",
       "<table border=\"1\" class=\"dataframe\">\n",
       "  <thead>\n",
       "    <tr style=\"text-align: right;\">\n",
       "      <th></th>\n",
       "      <th>Country</th>\n",
       "      <th>Confirmed</th>\n",
       "      <th>Deaths</th>\n",
       "      <th>Recovered</th>\n",
       "      <th>Active</th>\n",
       "      <th>New_Cases</th>\n",
       "      <th>New_deaths</th>\n",
       "      <th>New_recovered</th>\n",
       "      <th>Deaths / 100 Cases</th>\n",
       "      <th>Recovered / 100 Cases</th>\n",
       "      <th>Deaths / 100 Recovered</th>\n",
       "      <th>Confirmed last week</th>\n",
       "      <th>1 week change</th>\n",
       "      <th>1 week % increase</th>\n",
       "      <th>WHO_Region</th>\n",
       "    </tr>\n",
       "  </thead>\n",
       "  <tbody>\n",
       "    <tr>\n",
       "      <th>41</th>\n",
       "      <td>Costa Rica</td>\n",
       "      <td>15841</td>\n",
       "      <td>115</td>\n",
       "      <td>3824</td>\n",
       "      <td>11902</td>\n",
       "      <td>612</td>\n",
       "      <td>11</td>\n",
       "      <td>88</td>\n",
       "      <td>0.73</td>\n",
       "      <td>24.14</td>\n",
       "      <td>3.01</td>\n",
       "      <td>11534</td>\n",
       "      <td>4307</td>\n",
       "      <td>37.34</td>\n",
       "      <td>Americas</td>\n",
       "    </tr>\n",
       "    <tr>\n",
       "      <th>102</th>\n",
       "      <td>Luxembourg</td>\n",
       "      <td>6321</td>\n",
       "      <td>112</td>\n",
       "      <td>4825</td>\n",
       "      <td>1384</td>\n",
       "      <td>49</td>\n",
       "      <td>0</td>\n",
       "      <td>178</td>\n",
       "      <td>1.77</td>\n",
       "      <td>76.33</td>\n",
       "      <td>2.32</td>\n",
       "      <td>5639</td>\n",
       "      <td>682</td>\n",
       "      <td>12.09</td>\n",
       "      <td>Europe</td>\n",
       "    </tr>\n",
       "    <tr>\n",
       "      <th>122</th>\n",
       "      <td>Nicaragua</td>\n",
       "      <td>3439</td>\n",
       "      <td>108</td>\n",
       "      <td>2492</td>\n",
       "      <td>839</td>\n",
       "      <td>0</td>\n",
       "      <td>0</td>\n",
       "      <td>0</td>\n",
       "      <td>3.14</td>\n",
       "      <td>72.46</td>\n",
       "      <td>4.33</td>\n",
       "      <td>3147</td>\n",
       "      <td>292</td>\n",
       "      <td>9.28</td>\n",
       "      <td>Americas</td>\n",
       "    </tr>\n",
       "    <tr>\n",
       "      <th>152</th>\n",
       "      <td>Slovenia</td>\n",
       "      <td>2087</td>\n",
       "      <td>116</td>\n",
       "      <td>1733</td>\n",
       "      <td>238</td>\n",
       "      <td>5</td>\n",
       "      <td>0</td>\n",
       "      <td>55</td>\n",
       "      <td>5.56</td>\n",
       "      <td>83.04</td>\n",
       "      <td>6.69</td>\n",
       "      <td>1953</td>\n",
       "      <td>134</td>\n",
       "      <td>6.86</td>\n",
       "      <td>Europe</td>\n",
       "    </tr>\n",
       "  </tbody>\n",
       "</table>\n",
       "</div>"
      ],
      "text/plain": [
       "        Country  Confirmed  Deaths  Recovered  Active  New_Cases  New_deaths  \\\n",
       "41   Costa Rica      15841     115       3824   11902        612          11   \n",
       "102  Luxembourg       6321     112       4825    1384         49           0   \n",
       "122   Nicaragua       3439     108       2492     839          0           0   \n",
       "152    Slovenia       2087     116       1733     238          5           0   \n",
       "\n",
       "     New_recovered  Deaths / 100 Cases  Recovered / 100 Cases  \\\n",
       "41              88                0.73                  24.14   \n",
       "102            178                1.77                  76.33   \n",
       "122              0                3.14                  72.46   \n",
       "152             55                5.56                  83.04   \n",
       "\n",
       "     Deaths / 100 Recovered  Confirmed last week  1 week change  \\\n",
       "41                     3.01                11534           4307   \n",
       "102                    2.32                 5639            682   \n",
       "122                    4.33                 3147            292   \n",
       "152                    6.69                 1953            134   \n",
       "\n",
       "     1 week % increase WHO_Region  \n",
       "41               37.34   Americas  \n",
       "102              12.09     Europe  \n",
       "122               9.28   Americas  \n",
       "152               6.86     Europe  "
      ]
     },
     "execution_count": 7,
     "metadata": {},
     "output_type": "execute_result"
    }
   ],
   "source": [
    "country_wise_latest_covid.query(\"(Deaths > 100) & (Deaths < 120)\")"
   ]
  },
  {
   "cell_type": "markdown",
   "metadata": {},
   "source": [
    "How about the datatypes of the columns? Is there a way to figure these out?  Sure.  We could use `dtypes`:"
   ]
  },
  {
   "cell_type": "code",
   "execution_count": null,
   "metadata": {},
   "outputs": [],
   "source": [
    "country_wise_latest_covid.dtypes"
   ]
  },
  {
   "cell_type": "markdown",
   "metadata": {},
   "source": [
    "Finally, we can use Pandas to plot information directly.  We could do `pie` charts, `scatter` plots, `areas`, `histograms`, and many other types!"
   ]
  },
  {
   "cell_type": "code",
   "execution_count": null,
   "metadata": {},
   "outputs": [],
   "source": [
    "country_wise_latest_covid['New_deaths'].plot.hist()"
   ]
  },
  {
   "cell_type": "code",
   "execution_count": null,
   "metadata": {},
   "outputs": [],
   "source": [
    "country_wise_latest_covid.plot(x=\"Country\", y=\"Deaths\");"
   ]
  },
  {
   "cell_type": "markdown",
   "metadata": {},
   "source": [
    "# Let us try the pokemons dataset."
   ]
  },
  {
   "cell_type": "code",
   "execution_count": 8,
   "metadata": {},
   "outputs": [],
   "source": [
    "import pandas as pd"
   ]
  },
  {
   "cell_type": "markdown",
   "metadata": {},
   "source": [
    "This time, we will open a CSV file!"
   ]
  },
  {
   "cell_type": "code",
   "execution_count": 9,
   "metadata": {},
   "outputs": [
    {
     "data": {
      "text/html": [
       "<div>\n",
       "<style scoped>\n",
       "    .dataframe tbody tr th:only-of-type {\n",
       "        vertical-align: middle;\n",
       "    }\n",
       "\n",
       "    .dataframe tbody tr th {\n",
       "        vertical-align: top;\n",
       "    }\n",
       "\n",
       "    .dataframe thead th {\n",
       "        text-align: right;\n",
       "    }\n",
       "</style>\n",
       "<table border=\"1\" class=\"dataframe\">\n",
       "  <thead>\n",
       "    <tr style=\"text-align: right;\">\n",
       "      <th></th>\n",
       "      <th>Name</th>\n",
       "      <th>Name2</th>\n",
       "      <th>Primary Type</th>\n",
       "      <th>Secondary type</th>\n",
       "      <th>Attack</th>\n",
       "      <th>Defense</th>\n",
       "      <th>HP</th>\n",
       "      <th>Sp.Attack</th>\n",
       "      <th>Sp.Defense</th>\n",
       "      <th>Speed</th>\n",
       "      <th>Total</th>\n",
       "    </tr>\n",
       "  </thead>\n",
       "  <tbody>\n",
       "    <tr>\n",
       "      <th>0</th>\n",
       "      <td>Bulbasaur</td>\n",
       "      <td>NaN</td>\n",
       "      <td>GRASS</td>\n",
       "      <td>POISON</td>\n",
       "      <td>49</td>\n",
       "      <td>49</td>\n",
       "      <td>45</td>\n",
       "      <td>65</td>\n",
       "      <td>65</td>\n",
       "      <td>45</td>\n",
       "      <td>318</td>\n",
       "    </tr>\n",
       "    <tr>\n",
       "      <th>1</th>\n",
       "      <td>Ivysaur</td>\n",
       "      <td>NaN</td>\n",
       "      <td>GRASS</td>\n",
       "      <td>POISON</td>\n",
       "      <td>62</td>\n",
       "      <td>63</td>\n",
       "      <td>60</td>\n",
       "      <td>80</td>\n",
       "      <td>80</td>\n",
       "      <td>60</td>\n",
       "      <td>405</td>\n",
       "    </tr>\n",
       "    <tr>\n",
       "      <th>2</th>\n",
       "      <td>Venusaur</td>\n",
       "      <td>NaN</td>\n",
       "      <td>GRASS</td>\n",
       "      <td>POISON</td>\n",
       "      <td>82</td>\n",
       "      <td>83</td>\n",
       "      <td>80</td>\n",
       "      <td>100</td>\n",
       "      <td>100</td>\n",
       "      <td>80</td>\n",
       "      <td>525</td>\n",
       "    </tr>\n",
       "    <tr>\n",
       "      <th>3</th>\n",
       "      <td>Venusaur</td>\n",
       "      <td>Mega Venusaur</td>\n",
       "      <td>GRASS</td>\n",
       "      <td>POISON</td>\n",
       "      <td>100</td>\n",
       "      <td>123</td>\n",
       "      <td>80</td>\n",
       "      <td>122</td>\n",
       "      <td>120</td>\n",
       "      <td>80</td>\n",
       "      <td>625</td>\n",
       "    </tr>\n",
       "    <tr>\n",
       "      <th>4</th>\n",
       "      <td>Charmander</td>\n",
       "      <td>NaN</td>\n",
       "      <td>FIRE</td>\n",
       "      <td>NaN</td>\n",
       "      <td>52</td>\n",
       "      <td>43</td>\n",
       "      <td>39</td>\n",
       "      <td>60</td>\n",
       "      <td>50</td>\n",
       "      <td>65</td>\n",
       "      <td>309</td>\n",
       "    </tr>\n",
       "    <tr>\n",
       "      <th>...</th>\n",
       "      <td>...</td>\n",
       "      <td>...</td>\n",
       "      <td>...</td>\n",
       "      <td>...</td>\n",
       "      <td>...</td>\n",
       "      <td>...</td>\n",
       "      <td>...</td>\n",
       "      <td>...</td>\n",
       "      <td>...</td>\n",
       "      <td>...</td>\n",
       "      <td>...</td>\n",
       "    </tr>\n",
       "    <tr>\n",
       "      <th>1040</th>\n",
       "      <td>Glastrier</td>\n",
       "      <td>NaN</td>\n",
       "      <td>ICE</td>\n",
       "      <td>NaN</td>\n",
       "      <td>145</td>\n",
       "      <td>130</td>\n",
       "      <td>100</td>\n",
       "      <td>65</td>\n",
       "      <td>110</td>\n",
       "      <td>30</td>\n",
       "      <td>580</td>\n",
       "    </tr>\n",
       "    <tr>\n",
       "      <th>1041</th>\n",
       "      <td>Spectrier</td>\n",
       "      <td>NaN</td>\n",
       "      <td>GHOST</td>\n",
       "      <td>NaN</td>\n",
       "      <td>65</td>\n",
       "      <td>60</td>\n",
       "      <td>100</td>\n",
       "      <td>145</td>\n",
       "      <td>80</td>\n",
       "      <td>130</td>\n",
       "      <td>580</td>\n",
       "    </tr>\n",
       "    <tr>\n",
       "      <th>1042</th>\n",
       "      <td>Calyrex</td>\n",
       "      <td>NaN</td>\n",
       "      <td>PSYCHIC</td>\n",
       "      <td>GRASS</td>\n",
       "      <td>80</td>\n",
       "      <td>80</td>\n",
       "      <td>100</td>\n",
       "      <td>80</td>\n",
       "      <td>80</td>\n",
       "      <td>80</td>\n",
       "      <td>500</td>\n",
       "    </tr>\n",
       "    <tr>\n",
       "      <th>1043</th>\n",
       "      <td>Calyrex</td>\n",
       "      <td>Ice Rider</td>\n",
       "      <td>PSYCHIC</td>\n",
       "      <td>ICE</td>\n",
       "      <td>165</td>\n",
       "      <td>150</td>\n",
       "      <td>100</td>\n",
       "      <td>85</td>\n",
       "      <td>130</td>\n",
       "      <td>50</td>\n",
       "      <td>680</td>\n",
       "    </tr>\n",
       "    <tr>\n",
       "      <th>1044</th>\n",
       "      <td>Calyrex</td>\n",
       "      <td>Shadow Rider</td>\n",
       "      <td>PSYCHIC</td>\n",
       "      <td>GHOST</td>\n",
       "      <td>85</td>\n",
       "      <td>80</td>\n",
       "      <td>100</td>\n",
       "      <td>165</td>\n",
       "      <td>100</td>\n",
       "      <td>150</td>\n",
       "      <td>680</td>\n",
       "    </tr>\n",
       "  </tbody>\n",
       "</table>\n",
       "<p>1045 rows × 11 columns</p>\n",
       "</div>"
      ],
      "text/plain": [
       "            Name          Name2 Primary Type Secondary type  Attack  Defense  \\\n",
       "0      Bulbasaur            NaN        GRASS         POISON      49       49   \n",
       "1        Ivysaur            NaN        GRASS         POISON      62       63   \n",
       "2       Venusaur            NaN        GRASS         POISON      82       83   \n",
       "3       Venusaur  Mega Venusaur        GRASS         POISON     100      123   \n",
       "4     Charmander            NaN         FIRE            NaN      52       43   \n",
       "...          ...            ...          ...            ...     ...      ...   \n",
       "1040   Glastrier            NaN          ICE            NaN     145      130   \n",
       "1041   Spectrier            NaN        GHOST            NaN      65       60   \n",
       "1042     Calyrex            NaN      PSYCHIC          GRASS      80       80   \n",
       "1043     Calyrex      Ice Rider      PSYCHIC            ICE     165      150   \n",
       "1044     Calyrex   Shadow Rider      PSYCHIC          GHOST      85       80   \n",
       "\n",
       "       HP  Sp.Attack  Sp.Defense  Speed  Total  \n",
       "0      45         65          65     45    318  \n",
       "1      60         80          80     60    405  \n",
       "2      80        100         100     80    525  \n",
       "3      80        122         120     80    625  \n",
       "4      39         60          50     65    309  \n",
       "...   ...        ...         ...    ...    ...  \n",
       "1040  100         65         110     30    580  \n",
       "1041  100        145          80    130    580  \n",
       "1042  100         80          80     80    500  \n",
       "1043  100         85         130     50    680  \n",
       "1044  100        165         100    150    680  \n",
       "\n",
       "[1045 rows x 11 columns]"
      ]
     },
     "execution_count": 9,
     "metadata": {},
     "output_type": "execute_result"
    }
   ],
   "source": [
    "pokemons = pd.read_csv('pokemons.csv', encoding = \"ISO-8859-1\")\n",
    "pokemons"
   ]
  },
  {
   "cell_type": "code",
   "execution_count": 10,
   "metadata": {},
   "outputs": [
    {
     "data": {
      "text/plain": [
       "<AxesSubplot:ylabel='Frequency'>"
      ]
     },
     "execution_count": 10,
     "metadata": {},
     "output_type": "execute_result"
    },
    {
     "data": {
      "image/png": "[encoded data removed]",
      "text/plain": [
       "<Figure size 432x288 with 1 Axes>"
      ]
     },
     "metadata": {
      "needs_background": "light"
     },
     "output_type": "display_data"
    }
   ],
   "source": [
    "pokemons['Attack'].plot.hist()"
   ]
  },
  {
   "cell_type": "markdown",
   "metadata": {},
   "source": [
    "Check for `NaN` values in the Name2 column:"
   ]
  },
  {
   "cell_type": "code",
   "execution_count": null,
   "metadata": {},
   "outputs": [],
   "source": [
    "pokemons[pd.isnull(pokemons.Name2)]"
   ]
  },
  {
   "cell_type": "markdown",
   "metadata": {},
   "source": [
    "And replace them by `Unknown`:"
   ]
  },
  {
   "cell_type": "code",
   "execution_count": null,
   "metadata": {},
   "outputs": [],
   "source": [
    "pokemons.Name2.fillna(\"Unknown\", inplace=True)"
   ]
  },
  {
   "cell_type": "code",
   "execution_count": null,
   "metadata": {},
   "outputs": [],
   "source": [
    "pokemons"
   ]
  },
  {
   "cell_type": "markdown",
   "metadata": {},
   "source": [
    "We could also use an array indexing scheme to do the above queries.  The impact is the same!"
   ]
  },
  {
   "cell_type": "code",
   "execution_count": null,
   "metadata": {},
   "outputs": [],
   "source": [
    "pokemons[\"Name2\"].fillna(\"Unknown\", inplace = True)"
   ]
  },
  {
   "cell_type": "code",
   "execution_count": null,
   "metadata": {},
   "outputs": [],
   "source": [
    "pokemons"
   ]
  },
  {
   "cell_type": "markdown",
   "metadata": {},
   "source": [
    "Finally, we could also replace values in columns using the replace `function`:"
   ]
  },
  {
   "cell_type": "code",
   "execution_count": null,
   "metadata": {},
   "outputs": [],
   "source": [
    "pokemons.Name.replace(\"Calyrex\", \"rCalyrex\")"
   ]
  }
 ],
 "metadata": {
  "kernelspec": {
   "display_name": "Python 3",
   "language": "python",
   "name": "python3"
  },
  "language_info": {
   "codemirror_mode": {
    "name": "ipython",
    "version": 3
   },
   "file_extension": ".py",
   "mimetype": "text/x-python",
   "name": "python",
   "nbconvert_exporter": "python",
   "pygments_lexer": "ipython3",
   "version": "3.9.6"
  },
  "vscode": {
   "interpreter": {
    "hash": "aee8b7b246df8f9039afb4144a1f6fd8d2ca17a180786b69acc140d282b71a49"
   }
  }
 },
 "nbformat": 4,
 "nbformat_minor": 4
}
